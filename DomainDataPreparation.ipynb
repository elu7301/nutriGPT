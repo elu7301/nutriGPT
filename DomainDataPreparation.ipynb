{
 "cells": [
  {
   "cell_type": "code",
   "execution_count": 48,
   "id": "3350a0d1-25fb-49eb-8024-56ed675447c3",
   "metadata": {},
   "outputs": [],
   "source": [
    "import os\n",
    "import re\n",
    "import fitz\n",
    "from tqdm import tqdm\n",
    "from datasets import Dataset, DatasetDict"
   ]
  },
  {
   "cell_type": "code",
   "execution_count": 50,
   "id": "a4cfc2c6-69a4-4ce6-a7b5-a1dbf15af0a6",
   "metadata": {},
   "outputs": [],
   "source": [
    "PDF_DIR_DIET = \"./diet_pdf\"\n",
    "PDF_DIR_NUTRI = \"./nutri_pdf\"\n",
    "\n",
    "TXT_DIR = \"./domain_txt\"\n",
    "DATASET_DIR = \"./domain_dataset\"\n",
    "\n",
    "os.makedirs(TXT_DIR, exist_ok=True)\n",
    "os.makedirs(DATASET_DIR, exist_ok=True)"
   ]
  },
  {
   "cell_type": "code",
   "execution_count": 52,
   "id": "a37481e2-2d94-400e-a6e8-41a02fd7f3f4",
   "metadata": {},
   "outputs": [],
   "source": [
    "def pdf_to_txt(pdf_path: str) -> str:\n",
    "    \"\"\"\n",
    "    Извлекает текст из PDF-файла, используя PyMuPDF (fitz).\n",
    "    Возвращает сырой текст со всех страниц файла.\n",
    "    \"\"\"\n",
    "    text = \"\"\n",
    "    with fitz.open(pdf_path) as doc:\n",
    "        for page in doc:\n",
    "            blocks = page.get_text(\"blocks\")\n",
    "            for b in blocks:\n",
    "                text += b[4] + \"\\n\\n\"\n",
    "    return text"
   ]
  },
  {
   "cell_type": "code",
   "execution_count": 54,
   "id": "47e20bb8-4080-4052-9347-6743878e3c38",
   "metadata": {},
   "outputs": [],
   "source": [
    "def clean_text(text: str) -> str:\n",
    "    \"\"\"\n",
    "    Очищает входной текст от:\n",
    "      - лишних переносов строк\n",
    "      - URL-ссылок (http/https)\n",
    "      - HTML-тегов (<...>)\n",
    "      - ссылок-цитат вида [1], [2]\n",
    "      - непечатаемых и управляющих символов\n",
    "      - множественных пробелов\n",
    "      - символов вне разрешённого набора\n",
    "      - лишних пробелов перед знаками препинания\n",
    "    Возвращает очищенный текст.\n",
    "    \"\"\"\n",
    "    text = re.sub(r'\\r\\n', '\\n', text)\n",
    "    text = re.sub(r'\\n+', '\\n', text)\n",
    "    text = re.sub(r'https?://\\S+', '', text)\n",
    "    text = re.sub(r'<[^>]+>', '', text)\n",
    "    text = re.sub(r'\\[\\d+\\]', '', text)\n",
    "    text = re.sub(r'[\\x00-\\x1F\\x7F-\\x9F]', '', text)\n",
    "    text = re.sub(r'[ \\t]+', ' ', text)\n",
    "    text = re.sub(r'\\s+([.,:;!?])', r'\\1', text)\n",
    "    return text.strip()"
   ]
  },
  {
   "cell_type": "code",
   "execution_count": 55,
   "id": "40edb04c-4574-4a27-8d34-dc6150671c20",
   "metadata": {},
   "outputs": [],
   "source": [
    "def process_pdf_folder(folder_path: str, label: str):\n",
    "    pdf_files = [f for f in os.listdir(folder_path) if f.lower().endswith(\".pdf\")]\n",
    "\n",
    "    texts = []\n",
    "    total_chars_raw = 0\n",
    "    total_chars_clean = 0\n",
    "\n",
    "    for filename in tqdm(pdf_files, desc=f\"Обработка PDF из {folder_path}\"):\n",
    "        pdf_path = os.path.join(folder_path, filename)\n",
    "        txt_filename = os.path.splitext(filename)[0] + \".txt\"\n",
    "        txt_path = os.path.join(TXT_DIR, txt_filename)\n",
    "\n",
    "        try:\n",
    "            raw_text = pdf_to_txt(pdf_path)\n",
    "            total_chars_raw += len(raw_text)\n",
    "\n",
    "            cleaned = clean_text(raw_text)\n",
    "            total_chars_clean += len(cleaned)\n",
    "\n",
    "            texts.append({\"text\": cleaned, \"label\": label})\n",
    "\n",
    "            with open(txt_path, \"w\", encoding=\"utf-8\") as f:\n",
    "                f.write(cleaned)\n",
    "\n",
    "        except Exception as e:\n",
    "            print(f\"Ошибка при обработке файла {filename}: {e}\")\n",
    "\n",
    "    print(f\"\\n==== СТАТИСТИКА ДЛЯ ПАПКИ: {folder_path} ====\")\n",
    "    print(f\"Всего PDF-файлов: {len(pdf_files)}\")\n",
    "    print(f\"Общее кол-во символов ДО очистки: {total_chars_raw}\")\n",
    "    print(f\"Общее кол-во символов ПОСЛЕ очистки: {total_chars_clean}\")\n",
    "    print(f\"Общее кол-во элементов текста: {len(texts)}\")\n",
    "    print(\"==========================================\\n\")\n",
    "\n",
    "    return texts"
   ]
  },
  {
   "cell_type": "code",
   "execution_count": 58,
   "id": "6fb5d331-eb3a-4159-bd18-72f92539a0da",
   "metadata": {},
   "outputs": [],
   "source": [
    "all_texts = []"
   ]
  },
  {
   "cell_type": "code",
   "execution_count": 59,
   "id": "6a9c8d65-79f9-4534-9f46-1c438bcaaf3c",
   "metadata": {},
   "outputs": [
    {
     "name": "stderr",
     "output_type": "stream",
     "text": [
      "Обработка PDF из ./diet_pdf: 100%|██████████| 28/28 [00:05<00:00,  5.40it/s]"
     ]
    },
    {
     "name": "stdout",
     "output_type": "stream",
     "text": [
      "\n",
      "==== СТАТИСТИКА ДЛЯ ПАПКИ: ./diet_pdf ====\n",
      "Всего PDF-файлов: 28\n",
      "Общее кол-во символов ДО очистки: 7813011\n",
      "Общее кол-во символов ПОСЛЕ очистки: 7177470\n",
      "Общее кол-во элементов текста: 28\n",
      "==========================================\n",
      "\n"
     ]
    },
    {
     "name": "stderr",
     "output_type": "stream",
     "text": [
      "\n"
     ]
    }
   ],
   "source": [
    "diet_texts = process_pdf_folder(PDF_DIR_DIET, label=\"diet\")\n",
    "all_texts.extend(diet_texts)"
   ]
  },
  {
   "cell_type": "code",
   "execution_count": 61,
   "id": "1dd754f7-aef8-42e3-817c-4aa59e965a05",
   "metadata": {},
   "outputs": [
    {
     "name": "stderr",
     "output_type": "stream",
     "text": [
      "Обработка PDF из ./nutri_pdf: 100%|██████████| 6/6 [00:05<00:00,  1.18it/s]"
     ]
    },
    {
     "name": "stdout",
     "output_type": "stream",
     "text": [
      "\n",
      "==== СТАТИСТИКА ДЛЯ ПАПКИ: ./nutri_pdf ====\n",
      "Всего PDF-файлов: 6\n",
      "Общее кол-во символов ДО очистки: 6975218\n",
      "Общее кол-во символов ПОСЛЕ очистки: 4710545\n",
      "Общее кол-во элементов текста: 6\n",
      "==========================================\n",
      "\n"
     ]
    },
    {
     "name": "stderr",
     "output_type": "stream",
     "text": [
      "\n"
     ]
    }
   ],
   "source": [
    "nutri_texts = process_pdf_folder(PDF_DIR_NUTRI, label=\"nutri\")\n",
    "all_texts.extend(nutri_texts)"
   ]
  },
  {
   "cell_type": "code",
   "execution_count": 62,
   "id": "bf59e23e-2e0e-498f-95a4-21d49954fd59",
   "metadata": {},
   "outputs": [
    {
     "data": {
      "text/plain": [
       "DatasetDict({\n",
       "    train: Dataset({\n",
       "        features: ['text', 'label'],\n",
       "        num_rows: 32\n",
       "    })\n",
       "    validation: Dataset({\n",
       "        features: ['text', 'label'],\n",
       "        num_rows: 2\n",
       "    })\n",
       "})"
      ]
     },
     "execution_count": 62,
     "metadata": {},
     "output_type": "execute_result"
    }
   ],
   "source": [
    "dataset = Dataset.from_list(all_texts)\n",
    "\n",
    "split_dataset = dataset.train_test_split(test_size=0.05, seed=73)\n",
    "ds = DatasetDict({\n",
    "    \"train\": split_dataset[\"train\"],\n",
    "    \"validation\": split_dataset[\"test\"]\n",
    "})\n",
    "\n",
    "ds"
   ]
  },
  {
   "cell_type": "code",
   "execution_count": 63,
   "id": "e9dd2168-a1aa-4353-9558-f0f5aba8c157",
   "metadata": {},
   "outputs": [
    {
     "data": {
      "application/vnd.jupyter.widget-view+json": {
       "model_id": "fd20de8f22174d6fa0ae8eff192d9de7",
       "version_major": 2,
       "version_minor": 0
      },
      "text/plain": [
       "Saving the dataset (0/1 shards):   0%|          | 0/32 [00:00<?, ? examples/s]"
      ]
     },
     "metadata": {},
     "output_type": "display_data"
    },
    {
     "data": {
      "application/vnd.jupyter.widget-view+json": {
       "model_id": "098ef33d4c724c8f8674d97c1913c4ba",
       "version_major": 2,
       "version_minor": 0
      },
      "text/plain": [
       "Saving the dataset (0/1 shards):   0%|          | 0/2 [00:00<?, ? examples/s]"
      ]
     },
     "metadata": {},
     "output_type": "display_data"
    }
   ],
   "source": [
    "ds.save_to_disk(DATASET_DIR)"
   ]
  }
 ],
 "metadata": {
  "kernelspec": {
   "display_name": "nn-env",
   "language": "python",
   "name": "nn-env"
  },
  "language_info": {
   "codemirror_mode": {
    "name": "ipython",
    "version": 3
   },
   "file_extension": ".py",
   "mimetype": "text/x-python",
   "name": "python",
   "nbconvert_exporter": "python",
   "pygments_lexer": "ipython3",
   "version": "3.10.16"
  }
 },
 "nbformat": 4,
 "nbformat_minor": 5
}
